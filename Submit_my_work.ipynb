{
 "cells": [
  {
   "cell_type": "markdown",
   "id": "f18f046f-c149-462f-9548-f2b215f4ee22",
   "metadata": {},
   "source": [
    "# Submit_my_work"
   ]
  },
  {
   "cell_type": "markdown",
   "id": "b501d66c-4d19-4cdf-b2aa-1b430ee29cf9",
   "metadata": {},
   "source": [
    "## Introduction\n",
    "This is a peer to peer assignments on the module Tools for Data Science"
   ]
  },
  {
   "cell_type": "markdown",
   "id": "2a6bf148-a84d-4b05-9e41-e9303aa9d3a3",
   "metadata": {},
   "source": [
    "**Data Sciences languages**\n",
    "- Python\n",
    "- R\n",
    "- Scala\n",
    "- SQL\n",
    "- Julia\n"
   ]
  },
  {
   "cell_type": "markdown",
   "id": "087a3a0e-6c51-414f-aaff-3446d9384c49",
   "metadata": {},
   "source": [
    "**Data Science libraries**\n",
    "- numpy\n",
    "- pandas\n",
    "- matplotlib\n",
    "- seaborn\n",
    "- scikit-learn\n",
    "- tensorflow\n",
    "- pytorch"
   ]
  },
  {
   "cell_type": "markdown",
   "id": "8ecd1af4-f100-4130-b811-7473e82e4dd0",
   "metadata": {},
   "source": [
    "**Data science tools**\n",
    "- Jupyter Notebook\n",
    "- Google Colab\n",
    "- VS Code\n",
    "- PyCharm\n",
    "- Git/Github\n",
    "- PowerBI\n",
    "- Tableau\n",
    "- Plotly\n",
    "- MySQL\n",
    "- MongoDB\n",
    "- Ibm Db2\n",
    "  "
   ]
  },
  {
   "cell_type": "markdown",
   "id": "86667e1a-31aa-4d02-b415-a14d3f978ebf",
   "metadata": {},
   "source": [
    "**Introducing Arithmetic Examples**\n",
    "\n",
    "*Addition example* (+)\n",
    "\n",
    "a = 5\n",
    "\n",
    "b = 8\n",
    "\n",
    "a + b = 13\n",
    "\n",
    "*Multiplication example* (*)\n",
    "\n",
    "a = 5\n",
    "\n",
    "b = 8\n",
    "\n",
    "a * b = 40\n",
    "\n"
   ]
  },
  {
   "cell_type": "markdown",
   "id": "af977f16-90bc-42bb-bdd0-4c892723f005",
   "metadata": {},
   "source": [
    "**Create a code cell to multiply and add numbers**"
   ]
  },
  {
   "cell_type": "code",
   "execution_count": 16,
   "id": "672fee92-c9b5-4dc1-8597-a29a888c35dd",
   "metadata": {},
   "outputs": [
    {
     "name": "stdout",
     "output_type": "stream",
     "text": [
      "The result of the addition is: 12\n",
      "The result of the multiplication is: 42\n"
     ]
    }
   ],
   "source": [
    "a = 3\n",
    "b = 7\n",
    "c = 2\n",
    "\n",
    "#Addition\n",
    "add_result = a + b + c\n",
    "print(\"The result of the addition is:\",add_result)\n",
    "\n",
    "#Multiplication\n",
    "m_result = a * b * c\n",
    "print(\"The result of the multiplication is:\",m_result)"
   ]
  },
  {
   "cell_type": "markdown",
   "id": "29c8ca9d-c5cc-488c-a4bb-f176394ac5c5",
   "metadata": {},
   "source": [
    "**Create a code cell to convert minutes to hours**"
   ]
  },
  {
   "cell_type": "code",
   "execution_count": 22,
   "id": "5de9f8e1-0db5-4df4-a43c-773489146d14",
   "metadata": {},
   "outputs": [
    {
     "name": "stdout",
     "output_type": "stream",
     "text": [
      "120 minutes is equal to 2.0 hours\n"
     ]
    }
   ],
   "source": [
    "#Conversion function\n",
    "def convert(minutes):\n",
    "    hours = minutes/60\n",
    "    print(f\"{minutes} minutes is equal to {hours} hours\")\n",
    "\n",
    "#Usage example\n",
    "convert(120)"
   ]
  },
  {
   "cell_type": "markdown",
   "id": "04a0b1a3-696b-494f-8ad6-3aba17a69794",
   "metadata": {},
   "source": [
    "**Objectifs**\n"
   ]
  },
  {
   "cell_type": "markdown",
   "id": "abb42f17-42b0-40c3-8939-1ec76f693473",
   "metadata": {},
   "source": [
    "- Introduction\n",
    "- Data science languages\n",
    "- Data Science tools\n",
    "- Data Science libraries\n",
    "- introducing arithmetic\n",
    "- create coding cells to introduce arithmetic operations"
   ]
  },
  {
   "cell_type": "markdown",
   "id": "59e635c2-4f5c-4272-bc3f-a078e0b6c2d9",
   "metadata": {},
   "source": [
    "**Auteur**: Anlim Ishola Adéwalé RADJI"
   ]
  }
 ],
 "metadata": {
  "kernelspec": {
   "display_name": "Python 3 (ipykernel)",
   "language": "python",
   "name": "python3"
  },
  "language_info": {
   "codemirror_mode": {
    "name": "ipython",
    "version": 3
   },
   "file_extension": ".py",
   "mimetype": "text/x-python",
   "name": "python",
   "nbconvert_exporter": "python",
   "pygments_lexer": "ipython3",
   "version": "3.10.8"
  }
 },
 "nbformat": 4,
 "nbformat_minor": 5
}
